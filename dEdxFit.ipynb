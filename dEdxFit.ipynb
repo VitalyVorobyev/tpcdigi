{
 "cells": [
  {
   "cell_type": "markdown",
   "id": "7be953fc",
   "metadata": {},
   "source": [
    "# dEdx fit"
   ]
  },
  {
   "cell_type": "code",
   "execution_count": 6,
   "id": "486ffd0d",
   "metadata": {},
   "outputs": [],
   "source": [
    "import os\n",
    "import json\n",
    "import glob\n",
    "import numpy as np\n",
    "import matplotlib.pyplot as plt\n",
    "import matplotlib\n",
    "matplotlib.rcParams['font.size'] = 16\n",
    "\n",
    "from readdata import get_data\n",
    "from tpcplot import draw_g4xyz\n",
    "from tracklen import process_track, plot_dedx\n",
    "from recoclusters import digits_to_clusters, pixid2position"
   ]
  },
  {
   "cell_type": "code",
   "execution_count": 7,
   "id": "afe81141",
   "metadata": {},
   "outputs": [],
   "source": [
    "data_path = 'tracks'"
   ]
  },
  {
   "cell_type": "code",
   "execution_count": 8,
   "id": "9789a0b9",
   "metadata": {},
   "outputs": [
    {
     "data": {
      "text/plain": [
       "dict_keys(['mu_100.0', 'mu_150.0', 'mu_200.0', 'mu_250.0', 'mu_300.0', 'mu_400.0', 'mu_500.0', 'mu_600.0', 'mu_1500.0', 'pi_100.0', 'pi_150.0', 'pi_200.0', 'pi_250.0', 'pi_300.0', 'pi_400.0', 'pi_500.0', 'pi_600.0', 'pi_1500.0', 'e_100.0', 'e_150.0', 'e_200.0', 'e_250.0', 'e_300.0', 'e_400.0', 'e_500.0', 'e_600.0', 'e_1500.0', 'K_150.0', 'K_200.0', 'K_250.0', 'K_300.0', 'K_400.0', 'K_500.0', 'K_600.0', 'K_1500.0', 'p_250.0', 'p_300.0', 'p_400.0', 'p_500.0', 'p_600.0', 'p_1500.0'])"
      ]
     },
     "execution_count": 8,
     "metadata": {},
     "output_type": "execute_result"
    }
   ],
   "source": [
    "trkfilter = json.load(open('trkfilter.json', 'r'))\n",
    "trkfilter.keys()"
   ]
  },
  {
   "cell_type": "code",
   "execution_count": 9,
   "id": "c2cedc34",
   "metadata": {},
   "outputs": [],
   "source": [
    "def get_keys(files):\n",
    "    return [os.path.splitext(os.path.split(item)[-1])[0] for item in files]"
   ]
  },
  {
   "cell_type": "code",
   "execution_count": 10,
   "id": "318fea6f",
   "metadata": {},
   "outputs": [
    {
     "data": {
      "text/plain": [
       "'K_100.0, K_150.0, K_1500.0, K_200.0, K_250.0, K_300.0, K_400.0, K_500.0, K_600.0, e_100.0, e_150.0, e_1500.0, e_200.0, e_250.0, e_300.0, e_400.0, e_500.0, e_600.0, mu_100.0, mu_150.0, mu_1500.0, mu_200.0, mu_250.0, mu_300.0, mu_400.0, mu_500.0, mu_600.0, p_1500.0, p_250.0, p_300.0, p_400.0, p_500.0, p_600.0, pi_100.0, pi_150.0, pi_1500.0, pi_200.0, pi_250.0, pi_300.0, pi_400.0, pi_500.0, pi_600.0'"
      ]
     },
     "execution_count": 10,
     "metadata": {},
     "output_type": "execute_result"
    }
   ],
   "source": [
    "files = sorted(glob.glob(f'{data_path}/*.npy'))\n",
    "keys = get_keys(files)\n",
    "data = {key: fname for key, fname in zip(keys, files)}\n",
    "', '.join(data.keys())"
   ]
  },
  {
   "cell_type": "code",
   "execution_count": 11,
   "id": "43e8edfe",
   "metadata": {},
   "outputs": [],
   "source": [
    "def apply_filter(ds, cuts):\n",
    "    (llo, lhi), (elo, ehi) = cuts\n",
    "    return ds[(ds[:, 1] < lhi) & (ds[:, 1] > llo) & (ds[:, 2] < ehi) & (ds[:, 2] > elo)]"
   ]
  },
  {
   "cell_type": "code",
   "execution_count": 30,
   "id": "9a08bd62",
   "metadata": {},
   "outputs": [],
   "source": [
    "key = 'mu_1500.0'\n",
    "ds = apply_filter(np.load(data[key]), trkfilter[key])[:, 2]"
   ]
  },
  {
   "cell_type": "code",
   "execution_count": 31,
   "id": "c9f215fa",
   "metadata": {},
   "outputs": [],
   "source": [
    "from scipy.stats import moyal"
   ]
  },
  {
   "cell_type": "code",
   "execution_count": 32,
   "id": "5cc3b1f2",
   "metadata": {},
   "outputs": [
    {
     "data": {
      "text/plain": [
       "(0.21488528387796985, 0.026019481506116843)"
      ]
     },
     "execution_count": 32,
     "metadata": {},
     "output_type": "execute_result"
    }
   ],
   "source": [
    "pdf = moyal()\n",
    "x0, s0 = moyal.fit(ds)\n",
    "x0, s0"
   ]
  },
  {
   "cell_type": "code",
   "execution_count": 33,
   "id": "308a929e",
   "metadata": {},
   "outputs": [
    {
     "data": {
      "image/png": "[encoded data removed]",
      "text/plain": [
       "<Figure size 864x504 with 1 Axes>"
      ]
     },
     "metadata": {
      "needs_background": "light"
     },
     "output_type": "display_data"
    }
   ],
   "source": [
    "x = np.linspace(0, 0.8, 250)\n",
    "y = moyal.pdf(x, x0, s0)\n",
    "plt.figure(figsize=(12, 7))\n",
    "plt.hist(ds, bins=100, density=True, histtype='step')\n",
    "plt.plot(x, y);"
   ]
  },
  {
   "cell_type": "code",
   "execution_count": null,
   "id": "0b66d2cf",
   "metadata": {},
   "outputs": [],
   "source": []
  }
 ],
 "metadata": {
  "kernelspec": {
   "display_name": "Python 3",
   "language": "python",
   "name": "python3"
  },
  "language_info": {
   "codemirror_mode": {
    "name": "ipython",
    "version": 3
   },
   "file_extension": ".py",
   "mimetype": "text/x-python",
   "name": "python",
   "nbconvert_exporter": "python",
   "pygments_lexer": "ipython3",
   "version": "3.9.7"
  }
 },
 "nbformat": 4,
 "nbformat_minor": 5
}
