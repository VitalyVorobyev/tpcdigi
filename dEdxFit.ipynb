{
 "cells": [
  {
   "cell_type": "markdown",
   "id": "7be953fc",
   "metadata": {},
   "source": [
    "# dEdx fit"
   ]
  },
  {
   "cell_type": "code",
   "execution_count": 1,
   "id": "486ffd0d",
   "metadata": {},
   "outputs": [],
   "source": [
    "import os\n",
    "import json\n",
    "import glob\n",
    "import numpy as np\n",
    "import matplotlib.pyplot as plt\n",
    "import matplotlib\n",
    "matplotlib.rcParams['font.size'] = 16\n",
    "\n",
    "from readdata import get_data\n",
    "from tpcplot import draw_g4xyz\n",
    "from tracklen import process_track, plot_dedx\n",
    "from recoclusters import digits_to_clusters, pixid2position"
   ]
  },
  {
   "cell_type": "code",
   "execution_count": 2,
   "id": "afe81141",
   "metadata": {},
   "outputs": [],
   "source": [
    "data_path = 'tracks'"
   ]
  },
  {
   "cell_type": "code",
   "execution_count": 3,
   "id": "9789a0b9",
   "metadata": {},
   "outputs": [
    {
     "data": {
      "text/plain": [
       "dict_keys(['mu_100.0', 'mu_150.0', 'mu_200.0', 'mu_250.0', 'mu_300.0', 'mu_400.0', 'mu_500.0', 'mu_600.0', 'mu_1500.0', 'pi_100.0', 'pi_150.0', 'pi_200.0', 'pi_250.0', 'pi_300.0', 'pi_400.0', 'pi_500.0', 'pi_600.0', 'pi_1500.0', 'e_100.0', 'e_150.0', 'e_200.0', 'e_250.0', 'e_300.0', 'e_400.0', 'e_500.0', 'e_600.0', 'e_1500.0', 'K_150.0', 'K_200.0', 'K_250.0', 'K_300.0', 'K_400.0', 'K_500.0', 'K_600.0', 'K_1500.0', 'p_250.0', 'p_300.0', 'p_400.0', 'p_500.0', 'p_600.0', 'p_1500.0'])"
      ]
     },
     "execution_count": 3,
     "metadata": {},
     "output_type": "execute_result"
    }
   ],
   "source": [
    "trkfilter = json.load(open('trkfilter.json', 'r'))\n",
    "trkfilter.keys()"
   ]
  },
  {
   "cell_type": "code",
   "execution_count": 4,
   "id": "c2cedc34",
   "metadata": {},
   "outputs": [],
   "source": [
    "def get_keys(files):\n",
    "    return [os.path.splitext(os.path.split(item)[-1])[0] for item in files]"
   ]
  },
  {
   "cell_type": "code",
   "execution_count": 5,
   "id": "318fea6f",
   "metadata": {},
   "outputs": [
    {
     "data": {
      "text/plain": [
       "'K_100.0, K_150.0, K_1500.0, K_200.0, K_250.0, K_300.0, K_400.0, K_500.0, K_600.0, e_100.0, e_150.0, e_1500.0, e_200.0, e_250.0, e_300.0, e_400.0, e_500.0, e_600.0, mu_100.0, mu_150.0, mu_1500.0, mu_200.0, mu_250.0, mu_300.0, mu_400.0, mu_500.0, mu_600.0, p_1500.0, p_250.0, p_300.0, p_400.0, p_500.0, p_600.0, pi_100.0, pi_150.0, pi_1500.0, pi_200.0, pi_250.0, pi_300.0, pi_400.0, pi_500.0, pi_600.0'"
      ]
     },
     "execution_count": 5,
     "metadata": {},
     "output_type": "execute_result"
    }
   ],
   "source": [
    "files = sorted(glob.glob(f'{data_path}/*.npy'))\n",
    "keys = get_keys(files)\n",
    "data = {key: fname for key, fname in zip(keys, files)}\n",
    "', '.join(data.keys())"
   ]
  },
  {
   "cell_type": "code",
   "execution_count": 6,
   "id": "43e8edfe",
   "metadata": {},
   "outputs": [],
   "source": [
    "def apply_filter(ds, cuts):\n",
    "    (llo, lhi), (elo, ehi) = cuts\n",
    "    return ds[(ds[:, 1] < lhi) & (ds[:, 1] > llo) & (ds[:, 2] < ehi) & (ds[:, 2] > elo)]"
   ]
  },
  {
   "cell_type": "code",
   "execution_count": 7,
   "id": "9a08bd62",
   "metadata": {},
   "outputs": [],
   "source": [
    "key = 'mu_1500.0'\n",
    "ds = apply_filter(np.load(data[key]), trkfilter[key])[:, 2]"
   ]
  },
  {
   "cell_type": "code",
   "execution_count": 8,
   "id": "c9f215fa",
   "metadata": {},
   "outputs": [],
   "source": [
    "from scipy.stats import moyal"
   ]
  },
  {
   "cell_type": "code",
   "execution_count": 9,
   "id": "5cc3b1f2",
   "metadata": {},
   "outputs": [
    {
     "data": {
      "text/plain": [
       "(0.21488528387796985, 0.026019481506116843)"
      ]
     },
     "execution_count": 9,
     "metadata": {},
     "output_type": "execute_result"
    }
   ],
   "source": [
    "pdf = moyal()\n",
    "x0, s0 = moyal.fit(ds)\n",
    "x0, s0"
   ]
  },
  {
   "cell_type": "code",
   "execution_count": 10,
   "id": "308a929e",
   "metadata": {},
   "outputs": [
    {
     "data": {
      "image/png": "[encoded data removed]",
      "text/plain": [
       "<Figure size 864x504 with 1 Axes>"
      ]
     },
     "metadata": {
      "needs_background": "light"
     },
     "output_type": "display_data"
    }
   ],
   "source": [
    "x = np.linspace(0, 0.8, 250)\n",
    "y = moyal.pdf(x, x0, s0)\n",
    "plt.figure(figsize=(12, 7))\n",
    "plt.hist(ds, bins=100, density=True, histtype='step')\n",
    "plt.plot(x, y);"
   ]
  },
  {
   "cell_type": "code",
   "execution_count": 11,
   "id": "0b66d2cf",
   "metadata": {},
   "outputs": [],
   "source": [
    "def landau(x, x0, xi):\n",
    "    lam = (x - x0) / xi\n",
    "    return np.exp(-0.5 * (lam + np.exp(-lam))) / np.sqrt(2.*np.pi)"
   ]
  },
  {
   "cell_type": "code",
   "execution_count": 12,
   "id": "7547bd17",
   "metadata": {},
   "outputs": [],
   "source": [
    "from scipy.integrate import quad"
   ]
  },
  {
   "cell_type": "code",
   "execution_count": 13,
   "id": "95c902a3",
   "metadata": {},
   "outputs": [],
   "source": [
    "def norm_landau(x, *pars):\n",
    "    norm = quad(lambda z: landau(z, *pars), 0.1, 0.7)[0]\n",
    "    return landau(x, *pars) / norm"
   ]
  },
  {
   "cell_type": "code",
   "execution_count": 14,
   "id": "dded6403",
   "metadata": {},
   "outputs": [],
   "source": [
    "def loglh(pars):\n",
    "    x0, xi = pars\n",
    "    return -2. * np.log(norm_landau(ds, x0, xi)).sum()"
   ]
  },
  {
   "cell_type": "code",
   "execution_count": 15,
   "id": "4a7d08e8",
   "metadata": {},
   "outputs": [],
   "source": [
    "from scipy.optimize import minimize"
   ]
  },
  {
   "cell_type": "code",
   "execution_count": 16,
   "id": "a8832039",
   "metadata": {},
   "outputs": [
    {
     "data": {
      "text/plain": [
       "      fun: -28102.720283745708\n",
       " hess_inv: <2x2 LbfgsInvHessProduct with dtype=float64>\n",
       "      jac: array([0.02364686, 0.00291038])\n",
       "  message: 'CONVERGENCE: REL_REDUCTION_OF_F_<=_FACTR*EPSMCH'\n",
       "     nfev: 30\n",
       "      nit: 7\n",
       "     njev: 10\n",
       "   status: 0\n",
       "  success: True\n",
       "        x: array([0.21489737, 0.02602809])"
      ]
     },
     "execution_count": 16,
     "metadata": {},
     "output_type": "execute_result"
    }
   ],
   "source": [
    "fitres = minimize(loglh, [0.213, 0.022], bounds=[(0.180, 0.240), (0.010, 0.072)])\n",
    "fitres"
   ]
  },
  {
   "cell_type": "code",
   "execution_count": 17,
   "id": "84198b98",
   "metadata": {},
   "outputs": [
    {
     "data": {
      "image/png": "[encoded data removed]",
      "text/plain": [
       "<Figure size 864x504 with 1 Axes>"
      ]
     },
     "metadata": {
      "needs_background": "light"
     },
     "output_type": "display_data"
    }
   ],
   "source": [
    "x = np.linspace(0, 0.8, 250)\n",
    "plt.figure(figsize=(12, 7))\n",
    "plt.hist(ds, bins=100, density=True, histtype='step')\n",
    "plt.plot(x, moyal.pdf(x, x0, s0));\n",
    "plt.plot(x, norm_landau(x, *fitres.x));"
   ]
  },
  {
   "cell_type": "code",
   "execution_count": 20,
   "id": "9423b098",
   "metadata": {},
   "outputs": [],
   "source": [
    "fitpars = {}"
   ]
  },
  {
   "cell_type": "code",
   "execution_count": 21,
   "id": "7ffa6b94",
   "metadata": {},
   "outputs": [
    {
     "name": "stderr",
     "output_type": "stream",
     "text": [
      "/home/vitaly/miniconda3/envs/nsu/lib/python3.9/site-packages/scipy/stats/_distn_infrastructure.py:1833: RuntimeWarning: divide by zero encountered in log\n",
      "  return log(self._pdf(x, *args))\n"
     ]
    },
    {
     "data": {
      "text/plain": [
       "{'K_150.0': (4.465125901935648, 0.7046724994200976),\n",
       " 'K_1500.0': (0.19491213963874277, 0.025680191436338817),\n",
       " 'K_200.0': (1.2024013603298473, 0.11925763282534349),\n",
       " 'K_250.0': (0.719589218747545, 0.1431031851712194),\n",
       " 'K_300.0': (0.5523849790973392, 0.08677344435008885),\n",
       " 'K_400.0': (0.3811993519311433, 0.05112421794182856),\n",
       " 'K_500.0': (0.30563753281217043, 0.03896789083463954),\n",
       " 'K_600.0': (0.2629284064857309, 0.03353878461212732),\n",
       " 'e_100.0': (0.2745725121541537, 0.029762164533897278),\n",
       " 'e_150.0': (0.2780285195581739, 0.0290816076338345),\n",
       " 'e_1500.0': (0.2889786465744932, 0.027207936740136166),\n",
       " 'e_200.0': (0.2800671738775171, 0.027850309843603184),\n",
       " 'e_250.0': (0.28178489185531713, 0.02766076553530386),\n",
       " 'e_300.0': (0.2835279655809476, 0.027852411486743014),\n",
       " 'e_400.0': (0.2844712140621673, 0.02751523205285935),\n",
       " 'e_500.0': (0.28536408622496806, 0.029114281657708782),\n",
       " 'e_600.0': (0.28577134123836134, 0.027745850546924307),\n",
       " 'mu_100.0': (0.3395154072079116, 0.03834898189262226),\n",
       " 'mu_150.0': (0.24197129796822098, 0.03035113788486834),\n",
       " 'mu_1500.0': (0.21488528387796985, 0.026019481506116843),\n",
       " 'mu_200.0': (0.21310021657411438, 0.028219647236683097),\n",
       " 'mu_250.0': (0.20082369838975753, 0.025964801205780128),\n",
       " 'mu_300.0': (0.1958123167405123, 0.025446156049701515),\n",
       " 'mu_400.0': (0.19397745480123602, 0.025234636353111878),\n",
       " 'mu_500.0': (0.19439220960081158, 0.02513695435174027),\n",
       " 'mu_600.0': (0.1973120254225047, 0.025360323398982566),\n",
       " 'p_1500.0': (0.22712824648962496, 0.029846128911974384),\n",
       " 'p_250.0': (4.087811641251275, 0.20495217702414753),\n",
       " 'p_300.0': (1.9125682346826096, 0.12061939879090508),\n",
       " 'p_400.0': (0.9955986575070487, 0.08130296989609376),\n",
       " 'p_500.0': (0.6763932590468351, 0.06298453504712354),\n",
       " 'p_600.0': (0.5160861761912997, 0.05158430942578529),\n",
       " 'pi_100.0': (0.4777277978233765, 0.052624780154886516),\n",
       " 'pi_150.0': (0.29566654210461973, 0.034145573640672985),\n",
       " 'pi_1500.0': (0.20941178999627388, 0.025348551730454978),\n",
       " 'pi_200.0': (0.23879232478040557, 0.029665559526191092),\n",
       " 'pi_250.0': (0.21791082570328635, 0.02844885422189442),\n",
       " 'pi_300.0': (0.2057480958599327, 0.026376639447879158),\n",
       " 'pi_400.0': (0.19543693534977888, 0.024982367085910208),\n",
       " 'pi_500.0': (0.19386536754879513, 0.024637089919737384),\n",
       " 'pi_600.0': (0.19363788645427177, 0.024643483973008085)}"
      ]
     },
     "execution_count": 21,
     "metadata": {},
     "output_type": "execute_result"
    }
   ],
   "source": [
    "for key in keys:\n",
    "    if key in trkfilter:\n",
    "        ds = apply_filter(np.load(data[key]), trkfilter[key])[:, 2]\n",
    "        fitpars[key] = moyal.fit(ds)\n",
    "fitpars"
   ]
  },
  {
   "cell_type": "code",
   "execution_count": null,
   "id": "39e7d484",
   "metadata": {},
   "outputs": [],
   "source": []
  }
 ],
 "metadata": {
  "kernelspec": {
   "display_name": "Python 3",
   "language": "python",
   "name": "python3"
  },
  "language_info": {
   "codemirror_mode": {
    "name": "ipython",
    "version": 3
   },
   "file_extension": ".py",
   "mimetype": "text/x-python",
   "name": "python",
   "nbconvert_exporter": "python",
   "pygments_lexer": "ipython3",
   "version": "3.9.7"
  }
 },
 "nbformat": 4,
 "nbformat_minor": 5
}
