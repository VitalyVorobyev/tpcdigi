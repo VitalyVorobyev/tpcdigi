{
 "cells": [
  {
   "cell_type": "markdown",
   "id": "f7af679b",
   "metadata": {},
   "source": [
    "# TPC PID Performance"
   ]
  },
  {
   "cell_type": "code",
   "execution_count": 1,
   "id": "91c5a25f",
   "metadata": {},
   "outputs": [],
   "source": [
    "import os\n",
    "import numpy as np\n",
    "import matplotlib.pyplot as plt\n",
    "import matplotlib\n",
    "matplotlib.rcParams['font.size'] = 16\n",
    "\n",
    "from readdata import get_data\n",
    "from tpcplot import draw_g4xyz\n",
    "from tracklen import process_track, plot_dedx\n",
    "from recoclusters import digits_to_clusters, pixid2position"
   ]
  },
  {
   "cell_type": "code",
   "execution_count": 2,
   "id": "bc7c1d38",
   "metadata": {},
   "outputs": [],
   "source": [
    "data_path = 'tracks'"
   ]
  },
  {
   "cell_type": "code",
   "execution_count": 3,
   "id": "dd33e4bb",
   "metadata": {},
   "outputs": [],
   "source": [
    "import glob"
   ]
  },
  {
   "cell_type": "code",
   "execution_count": 5,
   "id": "9d0ec5aa",
   "metadata": {},
   "outputs": [],
   "source": [
    "def get_keys(files):\n",
    "    return sorted([os.path.splitext(os.path.split(item)[-1])[0] for item in files])"
   ]
  },
  {
   "cell_type": "code",
   "execution_count": 6,
   "id": "26f51147",
   "metadata": {},
   "outputs": [
    {
     "data": {
      "text/plain": [
       "'K_100.0, K_150.0, K_1500.0, K_200.0, K_250.0, K_300.0, K_400.0, K_500.0, K_600.0, e_100.0, e_150.0, e_1500.0, e_200.0, e_250.0, e_300.0, e_400.0, e_500.0, e_600.0, mu_100.0, mu_150.0, mu_1500.0, mu_200.0, mu_250.0, mu_300.0, mu_400.0, mu_500.0, mu_600.0'"
      ]
     },
     "execution_count": 6,
     "metadata": {},
     "output_type": "execute_result"
    }
   ],
   "source": [
    "files = sorted(glob.glob(f'{data_path}/*.npy'))\n",
    "keys = get_keys(files)\n",
    "', '.join(keys)"
   ]
  },
  {
   "cell_type": "code",
   "execution_count": null,
   "id": "44a903af",
   "metadata": {},
   "outputs": [],
   "source": []
  }
 ],
 "metadata": {
  "kernelspec": {
   "display_name": "Python 3",
   "language": "python",
   "name": "python3"
  },
  "language_info": {
   "codemirror_mode": {
    "name": "ipython",
    "version": 3
   },
   "file_extension": ".py",
   "mimetype": "text/x-python",
   "name": "python",
   "nbconvert_exporter": "python",
   "pygments_lexer": "ipython3",
   "version": "3.9.7"
  }
 },
 "nbformat": 4,
 "nbformat_minor": 5
}
